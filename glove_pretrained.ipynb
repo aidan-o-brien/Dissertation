{
 "cells": [
  {
   "cell_type": "markdown",
   "metadata": {},
   "source": [
    "# Import Dependencies"
   ]
  },
  {
   "cell_type": "code",
   "execution_count": 1,
   "metadata": {},
   "outputs": [],
   "source": [
    "import pandas as pd\n",
    "import numpy as np\n",
    "import os"
   ]
  },
  {
   "cell_type": "markdown",
   "metadata": {},
   "source": [
    "# Load Data"
   ]
  },
  {
   "cell_type": "code",
   "execution_count": 6,
   "metadata": {},
   "outputs": [],
   "source": [
    "fname = r'C:\\Users\\aidan\\OneDrive - University of Bath\\1_Semester_2\\Cm50175_dissertation_preparation\\Data\\consolidate\\final_data'\n",
    "abstracts_df = pd.read_csv(fname + '\\\\abstracts.csv', nrows=10)"
   ]
  },
  {
   "cell_type": "markdown",
   "metadata": {},
   "source": [
    "# Pre-process Data"
   ]
  },
  {
   "cell_type": "code",
   "execution_count": 7,
   "metadata": {},
   "outputs": [
    {
     "name": "stdout",
     "output_type": "stream",
     "text": [
      "Dropped 0 rows due to missing abstracts.\n"
     ]
    }
   ],
   "source": [
    "before = abstracts_df.shape[0]\n",
    "abstracts_df.dropna(subset=['description'], inplace=True)\n",
    "abstracts_df.reset_index(drop=True, inplace=True)\n",
    "after = abstracts_df.shape[0]\n",
    "\n",
    "print(f'Dropped {before - after} rows due to missing abstracts.')"
   ]
  },
  {
   "cell_type": "code",
   "execution_count": null,
   "metadata": {},
   "outputs": [],
   "source": []
  }
 ],
 "metadata": {
  "kernelspec": {
   "display_name": "Python 3",
   "language": "python",
   "name": "python3"
  },
  "language_info": {
   "codemirror_mode": {
    "name": "ipython",
    "version": 3
   },
   "file_extension": ".py",
   "mimetype": "text/x-python",
   "name": "python",
   "nbconvert_exporter": "python",
   "pygments_lexer": "ipython3",
   "version": "3.6.5"
  }
 },
 "nbformat": 4,
 "nbformat_minor": 2
}
