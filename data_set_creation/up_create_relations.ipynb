{
 "cells": [
  {
   "cell_type": "markdown",
   "metadata": {},
   "source": [
    "# Import dependencies"
   ]
  },
  {
   "cell_type": "code",
   "execution_count": 1,
   "metadata": {},
   "outputs": [],
   "source": [
    "import pandas as pd\n",
    "import os\n",
    "import glob"
   ]
  },
  {
   "cell_type": "markdown",
   "metadata": {},
   "source": [
    "# Sort raw Scopus data\n",
    "\n",
    "* Consolidate different years into one csv file\n",
    "* Remove redundant columns\n",
    "* Add large data, e.g. abstracts, to a separate csv file"
   ]
  },
  {
   "cell_type": "markdown",
   "metadata": {},
   "source": [
    "__Add abstracts to separate csv__"
   ]
  },
  {
   "cell_type": "code",
   "execution_count": 2,
   "metadata": {},
   "outputs": [],
   "source": [
    "os.chdir(os.getcwd() + '\\\\scopus')"
   ]
  },
  {
   "cell_type": "code",
   "execution_count": 3,
   "metadata": {},
   "outputs": [],
   "source": [
    "def get_csvs():\n",
    "    return glob.glob('*.csv')\n",
    "    \n",
    "\n",
    "def create_abstract_df(csv_files):\n",
    "    \n",
    "    # Load only doi and abstract from each csv\n",
    "    dfs = []\n",
    "    \n",
    "    for csv in csv_files:\n",
    "        dfs.append(pd.read_csv(csv, usecols=['eid', 'doi', 'description']))\n",
    "    \n",
    "    abstract_df = pd.concat(dfs, ignore_index=True)\n",
    "    \n",
    "    return abstract_df\n",
    "\n",
    "\n",
    "csv_files = get_csvs()\n",
    "abstract_df = create_abstract_df(csv_files)"
   ]
  },
  {
   "cell_type": "code",
   "execution_count": 5,
   "metadata": {},
   "outputs": [],
   "source": [
    "os.chdir('..')\n",
    "os.chdir(os.getcwd() + '\\\\final_data')\n",
    "abstract_df.to_csv('abstracts.csv')"
   ]
  },
  {
   "cell_type": "markdown",
   "metadata": {},
   "source": [
    "__Remove redundant columns__"
   ]
  },
  {
   "cell_type": "markdown",
   "metadata": {},
   "source": [
    "Keep: eid, doi, title, afid (separated by semi-colon), coverDate, publicationName, citedby_count.\n",
    "\n",
    "Could this method artificially increase the number of records? If there are two authors from the same institution working on the same paper, this will show up twice in the records. Should I therefore remove duplicates?\n",
    "\n",
    "The above is not true! AFIDs are listed only once if there are multiple authors from the same institution."
   ]
  },
  {
   "cell_type": "code",
   "execution_count": 6,
   "metadata": {},
   "outputs": [],
   "source": [
    "os.chdir('..')\n",
    "os.chdir(os.getcwd() + '\\\\scopus')"
   ]
  },
  {
   "cell_type": "markdown",
   "metadata": {},
   "source": [
    "The problem with the below methodology is that I think I'm exploding non-UK affiliations. Also, there are some papers that were thrown out due to e.g. inconsistent lengths of afid and list of names. \n",
    "\n",
    "Is it actually expanding all affiliations? Going from papers to paper-afid only doubles the number of entries."
   ]
  },
  {
   "cell_type": "code",
   "execution_count": 7,
   "metadata": {},
   "outputs": [],
   "source": [
    "def remove_columns(csv_files):\n",
    "    \n",
    "    dfs = []\n",
    "    \n",
    "    for csv in csv_files:\n",
    "        columns = ['eid', 'doi', 'title', 'afid', 'coverDate', 'source_id', 'publicationName', 'citedby_count']\n",
    "        df = pd.read_csv(csv, usecols=columns)\n",
    "        df['afid'] = df['afid'].str.split(';')\n",
    "        df = df.explode('afid').reset_index(drop=True)\n",
    "        dfs.append(df)\n",
    "    \n",
    "    df = pd.concat(dfs, ignore_index=True)\n",
    "    \n",
    "    return df\n",
    "        \n",
    "        \n",
    "df = remove_columns(csv_files)"
   ]
  },
  {
   "cell_type": "code",
   "execution_count": 8,
   "metadata": {},
   "outputs": [],
   "source": [
    "os.chdir('..')\n",
    "os.chdir(os.getcwd() + '\\\\final_data')"
   ]
  },
  {
   "cell_type": "code",
   "execution_count": 9,
   "metadata": {},
   "outputs": [],
   "source": [
    "df.to_csv('papers.csv')"
   ]
  },
  {
   "cell_type": "markdown",
   "metadata": {},
   "source": [
    "# Sort affiliations\n",
    "\n",
    "Not needed"
   ]
  }
 ],
 "metadata": {
  "kernelspec": {
   "display_name": "Python 3",
   "language": "python",
   "name": "python3"
  },
  "language_info": {
   "codemirror_mode": {
    "name": "ipython",
    "version": 3
   },
   "file_extension": ".py",
   "mimetype": "text/x-python",
   "name": "python",
   "nbconvert_exporter": "python",
   "pygments_lexer": "ipython3",
   "version": "3.6.5"
  }
 },
 "nbformat": 4,
 "nbformat_minor": 2
}
